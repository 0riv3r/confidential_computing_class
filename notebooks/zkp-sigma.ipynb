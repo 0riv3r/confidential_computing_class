{
 "cells": [
  {
   "cell_type": "markdown",
   "id": "031fd1e7-be83-412d-9b96-f612f15b5cec",
   "metadata": {},
   "source": [
    "# Sigma (Schnorr) Identification Protocol\n",
    "## A ZKP interactive protocol\n",
    "### Python implementation\n",
    "\n",
    "## Run in browser using \" $ jupyter lab \" !\n",
    "This is an interactive execution that works in browser "
   ]
  },
  {
   "cell_type": "markdown",
   "id": "36b2c137-9bbc-43c4-a207-0cf663671320",
   "metadata": {},
   "source": [
    "https://en.wikipedia.org/wiki/Proof_of_knowledge"
   ]
  },
  {
   "cell_type": "markdown",
   "id": "d7d9e8a2-c20e-48bf-93ce-ea84a91a6fb2",
   "metadata": {},
   "source": [
    "## The Prover and Verifier agree on the following:\n",
    "### A cyclic group *G* of order *p* (a big prime number) with generator (primitive root) *g*."
   ]
  },
  {
   "cell_type": "markdown",
   "id": "702ff75f-6596-4420-81d8-e83437cae3ea",
   "metadata": {},
   "source": [
    "#### We can use *<ins>openssl</ins>* to generate a random prime at a given bits size, and a generator"
   ]
  },
  {
   "cell_type": "code",
   "execution_count": 1,
   "id": "28d2375b-79df-4235-ae80-4e99b46cac5f",
   "metadata": {},
   "outputs": [
    {
     "name": "stdout",
     "output_type": "stream",
     "text": [
      "Generating DH parameters, 512 bit long safe prime\n",
      ".........+...............................+...........................................................+.....+...................................+..................+......................+.......................+..........+..................+.................................................+.................................................................+......+....................................+......................................................................................................................+.....................+.......................................+.+........+............+..............................................+..............................+..................+....+...........................................+........................+............+.+......................+.................................................................+...............+................+..........................................+..............+............................+.................................................+...............................................................................................................................................................+...................................+.....................+...............+.........................+...............................................................................................................+............+...................................................................+......................................................................................+................................+.........+............+.....................+....................+...............+....+.............................................................................................................................+...+........................+......+..........................................................................................................................+....................................................................+...............................................................................................+.............+......................+..+......................................................................................................................................................................................................................+.+.....................................................................................+.......................................................................................+............+.............+........................................+....................................................+.....++*++*++*++*++*++*++*++*++*++*++*++*++*++*++*++*++*++*++*++*++*++*++*++*++*++*++*++*++*++*++*++*++*++*++*++*++*++*++*++*++*++*++*++*++*++*++*++*++*++*++*++*++*++*++*++*++*++*++*++*++*++*++*++*\n"
     ]
    }
   ],
   "source": [
    "# The output is in the file 'dhparams' at the same path\n",
    "!openssl dhparam -text -out dhparams 512"
   ]
  },
  {
   "cell_type": "markdown",
   "id": "bf17c554-ec68-4aeb-89d5-2b9206210635",
   "metadata": {},
   "source": [
    "#### Convert the hexadecimal to decimal: <br />\n",
    "https://www.mobilefish.com/services/big_number/big_number.php <br />\n",
    "<br />\n",
    "11835969984353354216691437291006245763846242542829548494585386007353171784095072175673343062339173975526279362680161974682108208645413677644629654572794703<br />\n",
    "\n",
    "512 bits size.<br />\n",
    "\n",
    "Can verify the size on:<br />\n",
    "https://planetcalc.com/8985/<br />"
   ]
  },
  {
   "cell_type": "markdown",
   "id": "c9dfcfb8-e7dc-4cf2-a767-527425f443ab",
   "metadata": {},
   "source": [
    "## Python implementation"
   ]
  },
  {
   "cell_type": "code",
   "execution_count": 2,
   "id": "834e1daa-c8db-4763-8bad-230355d2ba17",
   "metadata": {},
   "outputs": [],
   "source": [
    "from random import SystemRandom"
   ]
  },
  {
   "cell_type": "code",
   "execution_count": 3,
   "id": "b5a6b792-0349-4c7d-b376-b5a936d4aaaf",
   "metadata": {},
   "outputs": [],
   "source": [
    "# Globals\n",
    "\n",
    "# Cryptography Public Parameters\n",
    "\n",
    "# Generator of the finite group\n",
    "g = 2\n",
    "\n",
    "# Order of the finite group. A big prime number.\n",
    "p = 11835969984353354216691437291006245763846242542829548494585386007353171784095072175673343062339173975526279362680161974682108208645413677644629654572794703\n",
    "\n",
    "# The encrypted secret, will be set by a 3rd party. \n",
    "# Its preimage, which the prover needs to prove that she knows, is not accessible to both the prover and verifier.\n",
    "k = None\n",
    "\n",
    "# These parameters will be set in further proving steps and passed between the prover and verifier.\n",
    "a = c = z = None"
   ]
  },
  {
   "cell_type": "code",
   "execution_count": 4,
   "id": "46a9e3df-0ef3-4c3f-aae3-e708047a8d00",
   "metadata": {},
   "outputs": [],
   "source": [
    "def secret_knowledge(w):\n",
    "    \"\"\"\n",
    "    Gets the witness (secret), and encrypts it.\n",
    "    The plaintext witness never stored.\n",
    "    \"\"\"\n",
    "    global k\n",
    "    k = pow(g,w,p)         \n",
    "    print('\\n'+'The secret has been created.'+ '\\n' +\n",
    "    'Neither Peggy nor Victor can read it since it\\'s discarded and' + '\\n' +\n",
    "    'only its encryption is publicly known.' '\\n' +\n",
    "    'If Peggy hasn\\'t learned the secret from another source, \\nshe won\\'t be able to prove to Victor that she knows the secret.''\\n')"
   ]
  },
  {
   "cell_type": "code",
   "execution_count": 5,
   "id": "bf9b12d7-d6a2-48c1-803e-df2271f340f5",
   "metadata": {},
   "outputs": [],
   "source": [
    "class Prover:\n",
    "\n",
    "    def __init__(self, secret):\n",
    "        self.s = secret\n",
    "        self.r = SystemRandom().randrange(p)    \n",
    "        print('Peggy claims she knows the secret and will now prove this claim.','\\n')\n",
    "\n",
    "    def prove_step1(self):            \n",
    "        global a\n",
    "        a = pow(g,self.r,p) \n",
    "        print('Peggy:')\n",
    "        print('Random number r = ',self.r) \n",
    "        print('a = g^r(mod p) = ',a,'\\na -----> Victor','\\n')\n",
    "            \n",
    "    def prove_step2(self):\n",
    "        global z\n",
    "        z = self.r + c * self.s\n",
    "        print('Peggy:')\n",
    "        print('z = r + cw = ',a,'\\nz -----> Victor','\\n') "
   ]
  },
  {
   "cell_type": "code",
   "execution_count": 6,
   "id": "974c6020-87c7-470e-9cc7-e91e653ae078",
   "metadata": {},
   "outputs": [],
   "source": [
    "class Verifier:\n",
    "\n",
    "    def __init__(self):        \n",
    "        return        \n",
    "\n",
    "    def verify_step1(self):\n",
    "        global c\n",
    "        c = SystemRandom().randrange(p)\n",
    "        print('Victor:')\n",
    "        print('Random challenge c = ',c,'\\nc -----> Peggy','\\n') \n",
    "\n",
    "    def verify_step2(self):\n",
    "        print('Victor:'+'\\n'+'Checking if g^z == a·k^c(mod p):')\n",
    "        \n",
    "        if pow(g,z,p) == (a * pow(k,c,p)) % p:\n",
    "            print(\"Peggy's proof Accepted!\",\"\\n\")\n",
    "        else:\n",
    "            print(\"Peggy's proof Rejected!\",\"\\n\")"
   ]
  },
  {
   "cell_type": "code",
   "execution_count": 7,
   "id": "ea97c97c-c1ee-4a46-b087-3312c9356747",
   "metadata": {},
   "outputs": [
    {
     "name": "stdout",
     "output_type": "stream",
     "text": [
      "\n",
      "-------- Sigma ZKP protocol example --------\n",
      "\n"
     ]
    },
    {
     "name": "stdin",
     "output_type": "stream",
     "text": [
      "Enter the secret knowledge (Intger): 123456\n"
     ]
    },
    {
     "name": "stdout",
     "output_type": "stream",
     "text": [
      "\n",
      "The secret has been created.\n",
      "Neither Peggy nor Victor can read it since it's discarded and\n",
      "only its encryption is publicly known.\n",
      "If Peggy hasn't learned the secret from another source, \n",
      "she won't be able to prove to Victor that she knows the secret.\n",
      "\n"
     ]
    },
    {
     "name": "stdin",
     "output_type": "stream",
     "text": [
      "Enter Peggy's knowledge (Intger) : 123456\n"
     ]
    },
    {
     "name": "stdout",
     "output_type": "stream",
     "text": [
      "Peggy claims she knows the secret and will now prove this claim. \n",
      "\n",
      "Peggy:\n",
      "Random number r =  7608584571311928901857460065555656124000134290736930286195725585088304054010559542427301441435256509884861045577271673422787666939115648082319653015386598\n",
      "a = g^r(mod p) =  3165625349890078214532723462782110347137545265975285755489730713130069774776219422895627134334606947945186015152739418374542084927033989442538916576832676 \n",
      "a -----> Victor \n",
      "\n",
      "Victor:\n",
      "Random challenge c =  8606271204580372589948126194641547964215886844379823728618783126796017390709078452720093076370018359321390697102878216636533872339595914586797428688650252 \n",
      "c -----> Peggy \n",
      "\n",
      "Peggy:\n",
      "z = r + cw =  3165625349890078214532723462782110347137545265975285755489730713130069774776219422895627134334606947945186015152739418374542084927033989442538916576832676 \n",
      "z -----> Victor \n",
      "\n",
      "Victor:\n",
      "Checking if g^z == a·k^c(mod p):\n",
      "Peggy's proof Accepted! \n",
      "\n"
     ]
    },
    {
     "name": "stdout",
     "output_type": "stream",
     "text": [
      "\n",
      "The secret has been created.\n",
      "Neither Peggy nor Victor can read it since it's discarded and\n",
      "only its encryption is publicly known.\n",
      "If Peggy hasn't learned the secret from another source, \n",
      "she won't be able to prove to Victor that she knows the secret.\n",
      "\n"
     ]
    },
    {
     "name": "stdout",
     "output_type": "stream",
     "text": [
      "Enter Peggy's knowledge (Intger) : 33\n"
     ]
    },
    {
     "name": "stdout",
     "output_type": "stream",
     "text": [
      "Peggy claims she knows the secret and will now prove this claim. \n",
      "\n",
      "Peggy:\n",
      "Random number r =  4048452113352249214176277251893309031852652133016998629235406795756993641906525274569868560537084084297002927627209336893410990003328717108294389221119791\n",
      "a = g^r(mod p) =  583849682008015625930092736044689059936268949209793560399985115122804259727033352722382210737099187430009135869192032729688089484888659390002789407109488 \n",
      "a -----> Victor \n",
      "\n",
      "Victor:\n",
      "Random challenge c =  7883281383741663286765141191292901945627508285288414009159136505322600904315267127559801512289724751149066671239908367168434957664792382762032995426446122 \n",
      "c -----> Peggy \n",
      "\n",
      "Peggy:\n",
      "z = r + cw =  583849682008015625930092736044689059936268949209793560399985115122804259727033352722382210737099187430009135869192032729688089484888659390002789407109488 \n",
      "z -----> Victor \n",
      "\n",
      "Victor:\n",
      "Checking if g^z == a·k^c(mod p):\n",
      "Peggy's proof Accepted! \n",
      "\n"
     ]
    }
   ],
   "source": [
    "# main    \n",
    "\n",
    "print('\\n'+'-------- Sigma ZKP protocol example --------'+'\\n')\n",
    "\n",
    "secret_knowledge(w = int(input(\"Enter the secret knowledge (Intger):\")))\n",
    "prover = Prover(secret = int(input(\"Enter Peggy's knowledge (Intger) :\")))\n",
    "verifier = Verifier()\n",
    "\n",
    "prover.prove_step1()\n",
    "verifier.verify_step1()\n",
    "prover.prove_step2()\n",
    "verifier.verify_step2()\n"
   ]
  },
  {
   "cell_type": "markdown",
   "id": "30f0571b-e4ea-48ed-abbe-8700a2614143",
   "metadata": {},
   "source": [
    "## Math"
   ]
  },
  {
   "cell_type": "markdown",
   "id": "585a79e3-d477-48e1-ad03-6589c082701b",
   "metadata": {},
   "source": [
    "### Prime & Generator (primitive root)"
   ]
  },
  {
   "cell_type": "markdown",
   "id": "c89a407c-2367-4619-9c5b-165c972898ac",
   "metadata": {},
   "source": [
    "A unit $g \\in {Z^*}_n$ is called a generator or primitive root of ${Z^*}_n$ if for every $a \\in {Z^*}_n$ we have $g^k = a$ for some integer *k*. In other words, if we start with *g*, and keep multiplying by *g* eventually we see every element."
   ]
  },
  {
   "cell_type": "markdown",
   "id": "b8efe5c3-508e-4f5f-b77f-1cd22f3e68e4",
   "metadata": {},
   "source": [
    "https://crypto.stanford.edu/pbc/notes/numbertheory/gen.html"
   ]
  },
  {
   "cell_type": "markdown",
   "id": "9329779b-e799-4291-92ca-6a9f4842db54",
   "metadata": {},
   "source": [
    "#### Big integers:\n",
    "Depending on what the programming language decides, it can:\n",
    "- roll it over to -9,223,372,036,854,775,808\n",
    "- convert it from a 64 int to a BigInt, an arbitrary precision format that users more storage as integer size increases\n",
    "- convert it to a floating point value, losing precision"
   ]
  },
  {
   "cell_type": "code",
   "execution_count": null,
   "id": "5e175ad0-43bb-4bf8-82af-a83ac916d26f",
   "metadata": {},
   "outputs": [],
   "source": []
  }
 ],
 "metadata": {
  "kernelspec": {
   "display_name": "ccc",
   "language": "python",
   "name": "ccc"
  },
  "language_info": {
   "codemirror_mode": {
    "name": "ipython",
    "version": 3
   },
   "file_extension": ".py",
   "mimetype": "text/x-python",
   "name": "python",
   "nbconvert_exporter": "python",
   "pygments_lexer": "ipython3",
   "version": "3.11.9"
  }
 },
 "nbformat": 4,
 "nbformat_minor": 5
}
