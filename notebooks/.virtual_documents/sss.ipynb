








# Import required libraries
import numpy as np
import numpy.polynomial.polynomial as poly
import matplotlib.pyplot as plt


plt.style.use('seaborn-v0_8-poster')














# Define coordinates of two points
x_coords = np.array([1, 3])
y_coords = np.array([2, 4])

# Calculate coefficients for y = mx + c
m = (y_coords[1] - y_coords[0]) / (x_coords[1] - x_coords[0])
c = y_coords[0] - m * x_coords[0]

# Define a function for the line
def line(x):
    return m * x + c

# Create an array of x values from 0 to 4
x = np.linspace(0, 4, 100)

# Create a figure and axis
fig, ax = plt.subplots()

# Plot the line
ax.plot(x, line(x), label='y = mx + c')

# Plot the points
ax.plot(x_coords, y_coords, 'ro')

# Add labels and title
plt.xlabel('X-axis')
plt.ylabel('Y-axis')
plt.title('Secret straight line with two random points')

# Show the legend
plt.legend()

# Display the plot
plt.show()



# Define coordinates of the point
x_point = 2
y_point = 3

# Define slopes for the lines
slopes = [-2, -1, 0, 1, 2]

# Define a function for the lines
def lines(x, m):
    return m * (x - x_point) + y_point

# Create an array of x values from 0 to 4
x = np.linspace(0, 4, 100)

# Create a figure and axis
fig, ax = plt.subplots()

# Plot the lines
for m in slopes:
    ax.plot(x, lines(x, m), label=f'y - {y_point} = {m}(x - {x_point})')

# Plot the point
ax.plot(x_point, y_point, 'ro')

# Add labels and title
plt.xlabel('X-axis')
plt.ylabel('Y-axis')
plt.title('Given one point, infinite lines passing through it')

# Show the legend
plt.legend()

# Display the plot
plt.show()




















# Define the polynomial function
def f(x):
    return 1234 + 166 * x + 94 * x ** 2

# Create an array of x values from -10 to 10
x = np.linspace(-10, 10, 400)

# Create a figure and axis
fig, ax = plt.subplots()

# Plot the polynomial
ax.plot(x, f(x), label="$f(x) = 1234 + 166x + 94x^2$")

# Add labels and title
plt.xlabel('X-axis')
plt.ylabel('Y-axis')
plt.title("$f(x) = 1234 + 166x + 94x^2$")

# Show the legend
plt.legend()

# Display the plot
plt.show()


# Define the polynomial function
def f(x):
    return 1234 + 166 * x + 94 * x ** 2

# Point at f(0)
point = (0, f(0))

# Create an array of x values from -2 to 2
x = np.linspace(-2, 2, 400)

# Create a figure and axis
fig, ax = plt.subplots()

# Plot the polynomial
ax.plot(x, f(x), label="$f(x) = 1234 + 166x + 94x^2$")

# Plot the point
ax.plot(point[0], point[1], 'ro', label="The secret")

# Add labels and title
plt.xlabel('X-axis')
plt.ylabel('Y-axis')
plt.title("$f(x) = 1234 + 166x + 94x^2$")

# Show the legend
plt.legend()

# Display the plot
plt.show()


# Add the following 6 shares: [(1,1494),(2,1942),(3,2578),(4,3402),(5,4414),(6,5614)]

# Define the polynomial function
def f(x):
    return 1234 + 166 * x + 94 * x ** 2

# Define the shares
shares = [(1,1494),(2,1942),(3,2578),(4,3402),(5,4414),(6,5614)]

# Create an array of x values from 0 to 7
x = np.linspace(0, 7, 400)

# Create a figure and axis
fig, ax = plt.subplots()

# Plot the polynomial
ax.plot(x, f(x), label="$f(x) = 1234 + 166x + 94x^2$")

# Plot the shares
share_xs = []
share_ys = []
for point in shares:
    share_xs.append(point[0])
    share_ys.append(point[1])

plt.scatter(share_xs, share_ys, label='Shares', c='r')

# Add labels and title
plt.xlabel('X-axis')
plt.ylabel('Y-axis')
plt.title("$f(x) = 1234 + 166x + 94x^2$")

# Show the legend
plt.legend()

# Display the plot
plt.show()




















from scipy.interpolate import lagrange
from numpy.polynomial.polynomial import Polynomial


xs = [2, 4, 5]
ys = [1942, 3402, 4414]


f = lagrange(xs, ys)  #Lagrange Interpolation


Polynomial(f.coef[::-1])#.coef


Polynomial(f.coef[::-1]).coef[0]


# Generates xs from 0 up to 6, with steps of 0.1
# this will generate the points (x,f(x) that will create the line of the function
x_new = np.arange(0, 6.1, 0.1)

plt.scatter(xs, ys, label='Shares')
# Plot the secret point
plt.plot(0, Polynomial(f.coef[::-1]).coef[0], 'ro', label="The secret")

plt.plot(x_new, Polynomial(f.coef[::-1])(x_new), label='Polynomial')
# 1234 + 166x + 94x^2
plt.plot(x_new, 94*x_new**2 + 166*x_new + 1234,
         label=r"$94 x^2 + 166 x + 1234$", linestyle='-.')
plt.yticks(np.arange(0, 5001, 500))
plt.legend()
plt.show()






