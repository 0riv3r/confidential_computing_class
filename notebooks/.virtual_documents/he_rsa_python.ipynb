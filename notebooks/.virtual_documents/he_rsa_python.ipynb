











!python3 --version


!which python3





#  Choose 2 (large) primes p and q
p = 53
q = 61
assert p != q





import math
import random





n = p*q


#  totient function of n
#  https://sefiks.com/2022/12/31/a-gentle-introduction-to-fermat-euler-theorem/

phi = (p-1)*(q-1)


e = phi - 1     
d = pow(e, -1, phi) # modular inverse, e^(-1) mod phi
assert (d*e) % phi == 1





def encrypt(m):
  return pow(m, e, n) # m^e mod n





def decrypt(c):
  return pow(c, d, n) # c^d mod n





m = 42
 
c = encrypt(m)
p = decrypt(c)
 
assert p == m





m1 = 25
m2 = 4


# Encrypt then multiply
c1 = encrypt(m1)
c2 = encrypt(m2)
en_mult = (c1 * c2)


# Multiply then encrypt
mult_en = encrypt(m1 * m2)


assert decrypt(en_mult) == decrypt(mult_en)





m1 = 42
m2 = 1 # The identity element
 
# Encrypt then multiply
c1 = encrypt(m1)
c2 = encrypt(m2)
en_mult = (c1 * c2)

# Multiply then encrypt
mult_en = encrypt(m1 * m2)


assert decrypt(en_mult) == decrypt(mult_en) == 42



