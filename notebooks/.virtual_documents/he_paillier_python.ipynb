














!python3 --version


!which python3





#  Choose 2 (large) primes p and q
p = 53
q = 61
assert p != q





import math
import random











n = p*q


#  totient function of n
#  https://sefiks.com/2022/12/31/a-gentle-introduction-to-fermat-euler-theorem/

phi = (p-1)*(q-1)
assert math.gcd(n, phi) == 1


g = n + 1
lmbda = phi * 1
mu = pow(lmbda, -1, n)





def encrypt(m, r):
    assert math.gcd(r, n) == 1
    c = ( pow(g, m, n*n) * pow(r, n, n*n) ) % (n*n)
    return c





def decrypt(c):
    cl = (pow(c, lmbda, n*n))
    l = int(cl - 1) / int(n)
    p = ( l * mu ) % n
    return p





print(f"Public generated key:\n g = {g} \n n = {n}")


print(f"Private generated key:\n λ = {lmbda} \n μ = {mu}")





m = 42
r = random.randint(0, n)
 
c = encrypt(m, r)
p = decrypt(c)
 
assert p == m





m1 = 71
r1 = random.randint(0, n)
 
m2 = 29
r2 = random.randint(0, n)


# preimage
c1 = encrypt(m1, r1)
c2 = encrypt(m2, r2)
c_primg = (c1*c2) % (n*n)


# image
c_img = encrypt(m1 + m2, r1*r2)





assert decrypt(c_primg) == decrypt(c_img)





m1 = 42
r1 = random.randint(0, n)
 
m2 = 0 # The identity element
r2 = random.randint(0, n)
 
# preimage
c1 = encrypt(m1, r1)
c2 = encrypt(m2, r2)
c_primg = (c1*c2) % (n*n)

# image
c_img = encrypt(m1 + m2, r1*r2)





assert decrypt(c_primg) == decrypt(c_img)



