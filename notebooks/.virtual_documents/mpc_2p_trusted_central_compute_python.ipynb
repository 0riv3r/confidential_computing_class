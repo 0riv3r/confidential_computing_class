











class Alice:
  def __init__(self, input, random):
    self.input = input
    self.random = random
    self.result = None

  def shared_value(self):
    '''
    Alice returns the XORing of her input with her random number
    '''
    return(self.input ^ self.random)

  def remove_random(self, exchanged_share):
    return exchanged_share ^ self.random

  def set_shared_computation_results(self, exchanged_share):
    '''
    Alice gets the shared computation results
    '''
    self.result = exchanged_share


class Bob:
  def __init__(self, input, random):
    self.input = input
    self.random = random
    self.result = None

  def shared_value(self):
    '''
    Bob returns the XORing of his input with his random number
    '''
    return(self.input ^ self.random)

  def remove_random(self, exchanged_share):
    return exchanged_share ^ self.random

  def set_shared_computation_results(self, exchanged_share):
    '''
    Bob gets the shared computation results
    '''
    self.result = exchanged_share


def compute_xor(alice_share, bob_share):
    '''
    Return XOR of the shares of Alice and Bob
    '''
    return(alice_share ^ bob_share)


'''
main
'''

# Each chooses an input and a random integer
alice = Alice(input=19, random=36)
bob = Bob(input=8, random=25)

expected_result = alice.input ^ bob.input

# The shared computation
exchanged_share = compute_xor(alice.shared_value(), bob.shared_value())

# Now each of the parties removes their chosen random number from the shared computation 
# to get the final result of their shared computation.
result_1_of_2 = alice.remove_random(exchanged_share)
result_2_of_2 = bob.remove_random(result_1_of_2)

assert result_2_of_2 == expected_result

alice.set_shared_computation_results(result_2_of_2)
bob.set_shared_computation_results(result_2_of_2)

assert alice.result == bob.result

print(alice.result)






