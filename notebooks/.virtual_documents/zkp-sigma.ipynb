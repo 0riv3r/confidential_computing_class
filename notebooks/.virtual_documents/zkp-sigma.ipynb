











# The output is in the file 'dhparams' at the same path
!openssl dhparam -text -out dhparams 512








from random import SystemRandom


# Globals

# Cryptography Public Parameters

# Generator of the finite group
g = 2

# Order of the finite group. A big prime number.
p = 11835969984353354216691437291006245763846242542829548494585386007353171784095072175673343062339173975526279362680161974682108208645413677644629654572794703

# The encrypted secret, will be set by a 3rd party. 
# Its preimage, which the prover needs to prove that she knows, is not accessible to both the prover and verifier.
k = None

# These parameters will be set in further proving steps and passed between the prover and verifier.
a = c = z = None


def secret_knowledge(w):
    """
    Gets the witness (secret), and encrypts it.
    The plaintext witness never stored.
    """
    global k
    k = pow(g,w,p)         
    print('\n'+'The secret has been created.'+ '\n' +
    'Neither Peggy nor Victor can read it since it\'s discarded and' + '\n' +
    'only its encryption is publicly known.' '\n' +
    'If Peggy hasn\'t learned the secret from another source, \nshe won\'t be able to prove to Victor that she knows the secret.''\n')


class Prover:

    def __init__(self, secret):
        self.s = secret
        self.r = SystemRandom().randrange(p)    
        print('Peggy claims she knows the secret and will now prove this claim.','\n')

    def prove_step1(self):            
        global a
        a = pow(g,self.r,p) 
        print('Peggy:')
        print('Random number r = ',self.r) 
        print('a = g^r(mod p) = ',a,'\na -----> Victor','\n')
            
    def prove_step2(self):
        global z
        z = self.r + c * self.s
        print('Peggy:')
        print('z = r + cw = ',a,'\nz -----> Victor','\n') 


class Verifier:

    def __init__(self):        
        return        

    def verify_step1(self):
        global c
        c = SystemRandom().randrange(p)
        print('Victor:')
        print('Random challenge c = ',c,'\nc -----> Peggy','\n') 

    def verify_step2(self):
        print('Victor:'+'\n'+'Checking if g^z == a·k^c(mod p):')
        
        if pow(g,z,p) == (a * pow(k,c,p)) % p:
            print("Peggy's proof Accepted!","\n")
        else:
            print("Peggy's proof Rejected!","\n")


# main    

print('\n'+'-------- Sigma ZKP protocol example --------'+'\n')

secret_knowledge(w = int(input("Enter the secret knowledge (Intger):")))
prover = Prover(secret = int(input("Enter Peggy's knowledge (Intger) :")))
verifier = Verifier()

prover.prove_step1()
verifier.verify_step1()
prover.prove_step2()
verifier.verify_step2()



















