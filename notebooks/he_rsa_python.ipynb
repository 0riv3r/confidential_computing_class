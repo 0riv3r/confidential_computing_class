{
 "cells": [
  {
   "cell_type": "markdown",
   "id": "ede45816-089b-4117-8fba-884f3297f1b8",
   "metadata": {},
   "source": [
    "# Multiplicative Homomorphic Encryption using the RSA cryptosystemm."
   ]
  },
  {
   "cell_type": "markdown",
   "id": "6060ba40-dd59-462c-a1df-9e30dd3ddf4f",
   "metadata": {},
   "source": [
    "## Python version"
   ]
  },
  {
   "cell_type": "markdown",
   "id": "aa6014f8-d96d-4402-a08a-a7c02d770b5b",
   "metadata": {},
   "source": [
    "@author: Ofer Rivlin<br>\n",
    "@mail: ofer.rivlin@intel.com<br>"
   ]
  },
  {
   "cell_type": "markdown",
   "id": "5a142a9d-faf7-4831-98e8-f8f03039c9f7",
   "metadata": {},
   "source": [
    "https://en.wikipedia.org/wiki/RSA_(cryptosystem)<br />\n",
    "https://en.wikipedia.org/wiki/Homomorphic_encryption"
   ]
  },
  {
   "cell_type": "code",
   "execution_count": 1,
   "id": "32c83e5d-c31f-471b-b91a-42a114de5128",
   "metadata": {},
   "outputs": [
    {
     "name": "stdout",
     "output_type": "stream",
     "text": [
      "Python 3.11.9\n"
     ]
    }
   ],
   "source": [
    "!python3 --version"
   ]
  },
  {
   "cell_type": "code",
   "execution_count": 2,
   "id": "0e25ec99-b888-4423-8ca0-9fe0537ae6d6",
   "metadata": {},
   "outputs": [
    {
     "name": "stdout",
     "output_type": "stream",
     "text": [
      "/home/orivlinux/miniforge3/envs/ccc/bin/python3\n"
     ]
    }
   ],
   "source": [
    "!which python3"
   ]
  },
  {
   "cell_type": "markdown",
   "id": "c6917442-7e75-403f-96be-c86732d7e956",
   "metadata": {},
   "source": [
    "### Data"
   ]
  },
  {
   "cell_type": "code",
   "execution_count": 3,
   "id": "f48b1c65-9995-4c11-904a-7bd9961a6c27",
   "metadata": {},
   "outputs": [],
   "source": [
    "#  Choose 2 (large) primes p and q\n",
    "p = 53\n",
    "q = 61\n",
    "assert p != q"
   ]
  },
  {
   "cell_type": "markdown",
   "id": "9c5da3e5-0ba4-4138-b58d-00b5a2a396bc",
   "metadata": {},
   "source": [
    "## Setup"
   ]
  },
  {
   "cell_type": "code",
   "execution_count": 4,
   "id": "3173551f-6286-4ccb-90da-ea2325d9ce29",
   "metadata": {},
   "outputs": [],
   "source": [
    "import math\n",
    "import random"
   ]
  },
  {
   "cell_type": "markdown",
   "id": "206f593c-40a4-4f9a-b168-f6898b5adfcd",
   "metadata": {},
   "source": [
    "## Key Generation"
   ]
  },
  {
   "cell_type": "code",
   "execution_count": 5,
   "id": "d82be7ee-93ab-4129-aa7e-d3a3b78ecd2b",
   "metadata": {},
   "outputs": [],
   "source": [
    "n = p*q"
   ]
  },
  {
   "cell_type": "code",
   "execution_count": 6,
   "id": "dc046cc4-aa20-403c-93ff-f61b91f34b47",
   "metadata": {},
   "outputs": [],
   "source": [
    "#  totient function of n\n",
    "#  https://sefiks.com/2022/12/31/a-gentle-introduction-to-fermat-euler-theorem/\n",
    "\n",
    "phi = (p-1)*(q-1)\n",
    "assert math.gcd(n, phi) == 1"
   ]
  },
  {
   "cell_type": "code",
   "execution_count": 7,
   "id": "a5d1c53b-d578-423d-a7a4-2fec4577ec26",
   "metadata": {},
   "outputs": [
    {
     "name": "stdout",
     "output_type": "stream",
     "text": [
      "3119\n"
     ]
    }
   ],
   "source": [
    "e = phi - 1     \n",
    "d = pow(e, -1, phi)\n",
    "print(d)"
   ]
  },
  {
   "cell_type": "markdown",
   "id": "6d9ba5fd-39c2-4145-b91c-b8b63c300597",
   "metadata": {},
   "source": [
    "## Encrypt"
   ]
  },
  {
   "cell_type": "code",
   "execution_count": 8,
   "id": "4371d930-e8b0-4c33-8fdc-38cc73026800",
   "metadata": {},
   "outputs": [],
   "source": [
    "def encrypt(m):\n",
    "  return pow(m, e, n)"
   ]
  },
  {
   "cell_type": "markdown",
   "id": "34cf5f24-f839-42f8-bcbb-f50b0168e6b7",
   "metadata": {},
   "source": [
    "## Decrypt"
   ]
  },
  {
   "cell_type": "code",
   "execution_count": 9,
   "id": "fb4114f5-b468-49af-a8cc-f6088faea852",
   "metadata": {},
   "outputs": [],
   "source": [
    "def decrypt(c):\n",
    "  return pow(c, d, n)"
   ]
  },
  {
   "cell_type": "markdown",
   "id": "d3631b78-7903-4566-9a6e-8ea05d2d9513",
   "metadata": {},
   "source": [
    "## Sanity test: encrypt/dcrypt"
   ]
  },
  {
   "cell_type": "code",
   "execution_count": 10,
   "id": "9a96e7da-5e42-4e13-b048-a455c965ca75",
   "metadata": {},
   "outputs": [],
   "source": [
    "m = 42\n",
    " \n",
    "c = encrypt(m)\n",
    "p = decrypt(c)\n",
    " \n",
    "assert p == m"
   ]
  },
  {
   "cell_type": "markdown",
   "id": "45c89849-eb93-4175-8989-6498a04486ea",
   "metadata": {},
   "source": [
    "## Multiplicative homomorphic encryption"
   ]
  },
  {
   "cell_type": "code",
   "execution_count": 11,
   "id": "a018a385-7da2-4272-9e0c-cc5cf60437ca",
   "metadata": {},
   "outputs": [],
   "source": [
    "m1 = 25\n",
    "m2 = 4"
   ]
  },
  {
   "cell_type": "code",
   "execution_count": 12,
   "id": "050e7a93-8e0d-43c8-9157-a178ec386697",
   "metadata": {},
   "outputs": [],
   "source": [
    "# preimage\n",
    "c1 = encrypt(m1)\n",
    "c2 = encrypt(m2)\n",
    "c_primg = (c1 * c2)"
   ]
  },
  {
   "cell_type": "code",
   "execution_count": 13,
   "id": "4963d771-4e9e-4446-a293-684029ff6cbe",
   "metadata": {},
   "outputs": [],
   "source": [
    "# image\n",
    "c_img = encrypt(m1 * m2)"
   ]
  },
  {
   "cell_type": "code",
   "execution_count": 14,
   "id": "6807afd5-741e-4c54-a072-096c18c3b4ee",
   "metadata": {},
   "outputs": [],
   "source": [
    "assert decrypt(c_primg) == decrypt(c_img)"
   ]
  },
  {
   "cell_type": "markdown",
   "id": "99605b42-d613-4a92-9f74-dfa92aa533eb",
   "metadata": {},
   "source": [
    "## multiplying by the Identity (neutral) element."
   ]
  },
  {
   "cell_type": "code",
   "execution_count": 15,
   "id": "3fb1c412-29a8-4a35-9d84-7eff2d5f5a1e",
   "metadata": {},
   "outputs": [],
   "source": [
    "m1 = 42\n",
    "m2 = 1 # The identity element\n",
    " \n",
    "# preimage\n",
    "c1 = encrypt(m1)\n",
    "c2 = encrypt(m2)\n",
    "c_primg = (c1 * c2)\n",
    "\n",
    "# image\n",
    "c_img = encrypt(m1 * m2)"
   ]
  },
  {
   "cell_type": "code",
   "execution_count": 16,
   "id": "93d24019-fcf4-467e-8191-20ef6b478d22",
   "metadata": {},
   "outputs": [],
   "source": [
    "assert decrypt(c_primg) == decrypt(c_img)"
   ]
  },
  {
   "cell_type": "code",
   "execution_count": null,
   "id": "2730022f-36f8-463a-b699-f4553efa182d",
   "metadata": {},
   "outputs": [],
   "source": []
  }
 ],
 "metadata": {
  "kernelspec": {
   "display_name": "ccc",
   "language": "python",
   "name": "ccc"
  },
  "language_info": {
   "codemirror_mode": {
    "name": "ipython",
    "version": 3
   },
   "file_extension": ".py",
   "mimetype": "text/x-python",
   "name": "python",
   "nbconvert_exporter": "python",
   "pygments_lexer": "ipython3",
   "version": "3.11.9"
  }
 },
 "nbformat": 4,
 "nbformat_minor": 5
}
