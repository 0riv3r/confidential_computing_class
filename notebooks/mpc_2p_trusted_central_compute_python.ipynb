{
 "cells": [
  {
   "cell_type": "markdown",
   "metadata": {},
   "source": [
    "# Multi-Party Computation (MPC)\n",
    "## 2-party computation\n",
    "### Python implementation"
   ]
  },
  {
   "cell_type": "markdown",
   "metadata": {},
   "source": [
    "@author: Ofer Rivlin<br>\n",
    "@mail: ofer.rivlin@intel.com<br>"
   ]
  },
  {
   "cell_type": "markdown",
   "metadata": {},
   "source": [
    "Multi-party computation (MPC) is a subfield of cryptography concerning methods for parties to jointly compute a function over their inputs while keeping those inputs private. Unlike traditional cryptographic tasks, it does not require a trusted third party."
   ]
  },
  {
   "cell_type": "markdown",
   "metadata": {},
   "source": [
    "Here is a simple example of a 2-party computation (Alice and Bob) using the XOR operation. This is a very basic example and doesn't cover all the complexities of real-world multi-party computation, but it will give you a rough idea of how it works."
   ]
  },
  {
   "cell_type": "code",
   "execution_count": 1,
   "metadata": {},
   "outputs": [],
   "source": [
    "class Alice:\n",
    "  def __init__(self, input, random):\n",
    "    self.input = input\n",
    "    self.random = random\n",
    "    self.result = None\n",
    "\n",
    "  def shared_value(self):\n",
    "    '''\n",
    "    Alice returns the XORing of her input with her random number\n",
    "    '''\n",
    "    return(self.input ^ self.random)\n",
    "\n",
    "  def remove_random(self, exchanged_share):\n",
    "    return exchanged_share ^ self.random\n",
    "\n",
    "  def set_shared_computation_results(self, exchanged_share):\n",
    "    '''\n",
    "    Alice gets the shared computation results\n",
    "    '''\n",
    "    self.result = exchanged_share"
   ]
  },
  {
   "cell_type": "code",
   "execution_count": 2,
   "metadata": {},
   "outputs": [],
   "source": [
    "class Bob:\n",
    "  def __init__(self, input, random):\n",
    "    self.input = input\n",
    "    self.random = random\n",
    "    self.result = None\n",
    "\n",
    "  def shared_value(self):\n",
    "    '''\n",
    "    Bob returns the XORing of his input with his random number\n",
    "    '''\n",
    "    return(self.input ^ self.random)\n",
    "\n",
    "  def remove_random(self, exchanged_share):\n",
    "    return exchanged_share ^ self.random\n",
    "\n",
    "  def set_shared_computation_results(self, exchanged_share):\n",
    "    '''\n",
    "    Bob gets the shared computation results\n",
    "    '''\n",
    "    self.result = exchanged_share"
   ]
  },
  {
   "cell_type": "code",
   "execution_count": 3,
   "metadata": {},
   "outputs": [],
   "source": [
    "def compute_xor(alice_share, bob_share):\n",
    "    '''\n",
    "    Return XOR of the shares of Alice and Bob\n",
    "    '''\n",
    "    return(alice_share ^ bob_share)"
   ]
  },
  {
   "cell_type": "code",
   "execution_count": 4,
   "metadata": {},
   "outputs": [
    {
     "name": "stdout",
     "output_type": "stream",
     "text": [
      "27\n"
     ]
    }
   ],
   "source": [
    "'''\n",
    "main\n",
    "'''\n",
    "\n",
    "# Each chooses an input and a random integer\n",
    "alice = Alice(input=19, random=36)\n",
    "bob = Bob(input=8, random=25)\n",
    "\n",
    "expected_result = alice.input ^ bob.input\n",
    "\n",
    "# The shared computation\n",
    "exchanged_share = compute_xor(alice.shared_value(), bob.shared_value())\n",
    "\n",
    "# Now each of the parties removes their chosen random number from the shared computation \n",
    "# to get the final result of their shared computation.\n",
    "result_1_of_2 = alice.remove_random(exchanged_share)\n",
    "result_2_of_2 = bob.remove_random(result_1_of_2)\n",
    "\n",
    "assert result_2_of_2 == expected_result\n",
    "\n",
    "alice.set_shared_computation_results(result_2_of_2)\n",
    "bob.set_shared_computation_results(result_2_of_2)\n",
    "\n",
    "assert alice.result == bob.result\n",
    "\n",
    "print(alice.result)"
   ]
  },
  {
   "cell_type": "markdown",
   "metadata": {},
   "source": [
    "In this code, the inputs are the private inputs of Alice and Bob. Alice and Bob each choose a random number, which they keep secret. They then compute a \"share\" of their input by XORing their input with their random number. They exchange these shares, and then compute the result by XORing the exchanged share with their random number. At the end of this process, they both have the result of the XOR computation, but they do not know each other's inputs.\n",
    "\n",
    "This is a very simple example and real-world multi-party computation is much more complex. In a real-world scenario, you would need to use a secure protocol for exchanging shares, and you would need to use a more complex scheme for computing the function over the inputs. You would also need to handle more than two parties, and you would need to deal with the possibility of dishonest parties. However, this example should give you a basic idea of how multi-party computation works.\n",
    "\n"
   ]
  },
  {
   "cell_type": "markdown",
   "metadata": {},
   "source": []
  }
 ],
 "metadata": {
  "kernelspec": {
   "display_name": "Python 3 (ipykernel)",
   "language": "python",
   "name": "python3"
  },
  "language_info": {
   "codemirror_mode": {
    "name": "ipython",
    "version": 3
   },
   "file_extension": ".py",
   "mimetype": "text/x-python",
   "name": "python",
   "nbconvert_exporter": "python",
   "pygments_lexer": "ipython3",
   "version": "3.11.11"
  }
 },
 "nbformat": 4,
 "nbformat_minor": 4
}
