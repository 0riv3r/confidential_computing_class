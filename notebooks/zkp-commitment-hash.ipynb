{
 "cells": [
  {
   "cell_type": "markdown",
   "id": "20d623ab-359c-4107-a264-5e880fea14e9",
   "metadata": {},
   "source": [
    "# Zero-Knowledge Proof\n",
    "## First example - the concept of a commitment schema\n",
    "### Python implementation"
   ]
  },
  {
   "cell_type": "markdown",
   "id": "6e6271f8-bb3f-45e5-a408-db766ebda0bf",
   "metadata": {},
   "source": [
    "@author: Ofer Rivlin<br>\n",
    "@mail: ofer.rivlin@intel.com<br>"
   ]
  },
  {
   "cell_type": "markdown",
   "id": "a8999937-b57b-48d7-98a6-0ab29fe22b12",
   "metadata": {},
   "source": [
    "A Zero-Knowledge Proof (ZKP) is a cryptographic method by which one party (the prover) can prove to another party (the verifier) that they know a value of a certain variable, without conveying any information apart from the fact that they know the value.\r\n"
   ]
  },
  {
   "cell_type": "markdown",
   "id": "8908bb8c-1b1f-4aa6-8685-717b97938038",
   "metadata": {},
   "source": [
    "Here is a very simplified and basic example of a zero-knowledge proof system, using the concept of a commitment scheme. This is not a full-fledged cryptographic ZKP, but it should give you an idea about the concept."
   ]
  },
  {
   "cell_type": "markdown",
   "id": "e300e0d7-174e-4c96-b621-52e24f642609",
   "metadata": {},
   "source": [
    "In this example, we'll use a simple commitment scheme where one party (Alice) wants to prove to another party (Bob) that she knows a secret number, without revealing the number itself. Alice will use a \"commitment\" to the number (like a hash) and a random \"salt\" value to obscure the number."
   ]
  },
  {
   "cell_type": "markdown",
   "id": "f4bb8247-d680-4e61-91dd-02ecea03eae6",
   "metadata": {},
   "source": [
    "In this basic example, Bob, the vrifier, knows the secret. We will later see a more advanced example where the verifier doesn't have any knowledge on the secret and still can be convinced that the prover knows the secret. "
   ]
  },
  {
   "cell_type": "code",
   "execution_count": 1,
   "id": "03d74ccc-bed1-4309-a535-b2838850e7c6",
   "metadata": {},
   "outputs": [
    {
     "name": "stdout",
     "output_type": "stream",
     "text": [
      "Alice's commitment: 504061725922d8ccfcdae7458440e39b09606c7038551e6569e6962bdeeda28f\n",
      "Verification result: True\n"
     ]
    }
   ],
   "source": [
    "import hashlib\n",
    "\n",
    "# Alice's secret number\n",
    "secret_number = \"123456789\"\n",
    "# A random \"salt\" value to obscure the secret\n",
    "salt = \"random_salt\"\n",
    "\n",
    "# Alice generates a commitment to the secret\n",
    "def generate_commitment(secret, salt):\n",
    "    m = hashlib.sha256()\n",
    "    m.update((secret + salt).encode('utf-8'))\n",
    "    return m.hexdigest()\n",
    "\n",
    "commitment = generate_commitment(secret_number, salt)\n",
    "\n",
    "# Alice sends the commitment to Bob.\n",
    "print(f\"Alice's commitment: {commitment}\")\n",
    "\n",
    "# Now, Bob asks Alice to reveal the secret. Instead of revealing the secret number,\n",
    "# Alice sends the salt. Bob can then check the commitment using the salt and the commitment.\n",
    "def verify_commitment(secret, salt, commitment):\n",
    "    return commitment == generate_commitment(secret, salt)\n",
    "\n",
    "# If Alice didn't know the secret number, she wouldn't be able to generate the correct salt.\n",
    "# So this proves to Bob that Alice knows the secret, without revealing what it is.\n",
    "print(f\"Verification result: {verify_commitment(secret_number, salt, commitment)}\")\n"
   ]
  },
  {
   "cell_type": "markdown",
   "id": "c4266026-0b1f-4a28-8419-95275ba385dc",
   "metadata": {},
   "source": [
    "This is a very basic example and real-world ZKPs are much more complex and involve advanced mathematical concepts. For an in-depth understanding, I'd suggest studying further from a specialized cryptography resource."
   ]
  },
  {
   "cell_type": "code",
   "execution_count": null,
   "id": "750e777f-efd1-4eb8-affb-38c5a5e4c563",
   "metadata": {},
   "outputs": [],
   "source": []
  }
 ],
 "metadata": {
  "kernelspec": {
   "display_name": "ccc",
   "language": "python",
   "name": "ccc"
  },
  "language_info": {
   "codemirror_mode": {
    "name": "ipython",
    "version": 3
   },
   "file_extension": ".py",
   "mimetype": "text/x-python",
   "name": "python",
   "nbconvert_exporter": "python",
   "pygments_lexer": "ipython3",
   "version": "3.11.9"
  }
 },
 "nbformat": 4,
 "nbformat_minor": 5
}
