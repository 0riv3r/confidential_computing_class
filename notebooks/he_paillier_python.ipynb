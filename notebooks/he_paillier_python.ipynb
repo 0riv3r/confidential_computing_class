{
 "cells": [
  {
   "cell_type": "markdown",
   "id": "ede45816-089b-4117-8fba-884f3297f1b8",
   "metadata": {},
   "source": [
    "# Partially HE using Paillier additively homomorphic cryptosystem"
   ]
  },
  {
   "cell_type": "markdown",
   "id": "6060ba40-dd59-462c-a1df-9e30dd3ddf4f",
   "metadata": {},
   "source": [
    "## Python version"
   ]
  },
  {
   "cell_type": "markdown",
   "id": "aa6014f8-d96d-4402-a08a-a7c02d770b5b",
   "metadata": {},
   "source": [
    "@author: Ofer Rivlin<br>\n",
    "@mail: ofer.rivlin@intel.com"
   ]
  },
  {
   "cell_type": "markdown",
   "id": "5a142a9d-faf7-4831-98e8-f8f03039c9f7",
   "metadata": {},
   "source": [
    "https://en.wikipedia.org/wiki/Paillier_cryptosystem"
   ]
  },
  {
   "cell_type": "markdown",
   "id": "6294440b-6125-4e4c-bfa4-bbcd9781f6be",
   "metadata": {},
   "source": [
    "#### There are 2 versions for this algorithm, we will use the simplified variant here.\n",
    "#### This variant simplifies the calculation of $g, \\lambda \\: \\text{and} \\: \\mu\\:$."
   ]
  },
  {
   "cell_type": "code",
   "execution_count": 103,
   "id": "32c83e5d-c31f-471b-b91a-42a114de5128",
   "metadata": {},
   "outputs": [
    {
     "name": "stdout",
     "output_type": "stream",
     "text": [
      "Python 3.11.11\n"
     ]
    }
   ],
   "source": [
    "!python3 --version"
   ]
  },
  {
   "cell_type": "code",
   "execution_count": 104,
   "id": "0e25ec99-b888-4423-8ca0-9fe0537ae6d6",
   "metadata": {},
   "outputs": [
    {
     "name": "stdout",
     "output_type": "stream",
     "text": [
      "/home/ofer/anaconda3/envs/ccc/bin/python3\n"
     ]
    }
   ],
   "source": [
    "!which python3"
   ]
  },
  {
   "cell_type": "markdown",
   "id": "c6917442-7e75-403f-96be-c86732d7e956",
   "metadata": {},
   "source": [
    "### Data"
   ]
  },
  {
   "cell_type": "code",
   "execution_count": 105,
   "id": "f48b1c65-9995-4c11-904a-7bd9961a6c27",
   "metadata": {},
   "outputs": [],
   "source": [
    "#  Choose 2 (large) primes p and q\n",
    "p = 53\n",
    "q = 61\n",
    "assert p != q"
   ]
  },
  {
   "cell_type": "markdown",
   "id": "9c5da3e5-0ba4-4138-b58d-00b5a2a396bc",
   "metadata": {},
   "source": [
    "### Setup"
   ]
  },
  {
   "cell_type": "code",
   "execution_count": 106,
   "id": "3173551f-6286-4ccb-90da-ea2325d9ce29",
   "metadata": {},
   "outputs": [],
   "source": [
    "import math\n",
    "import random"
   ]
  },
  {
   "cell_type": "markdown",
   "id": "206f593c-40a4-4f9a-b168-f6898b5adfcd",
   "metadata": {},
   "source": [
    "### Key Generation"
   ]
  },
  {
   "cell_type": "markdown",
   "id": "e2833096-c45b-4983-b551-35a1879f9171",
   "metadata": {},
   "source": [
    "## $n, g, \\lambda \\: \\text{and} \\: \\mu$"
   ]
  },
  {
   "cell_type": "markdown",
   "id": "04b108ab-c637-43a7-acd1-282ed3de331e",
   "metadata": {},
   "source": [
    "<font size=\"4\">\n",
    "$n = pq$ <br>\n",
    "$g = n + 1$ <br>\n",
    "$\\lambda = \\phi$<br>\n",
    "$\\mu = \\lambda^{-1} \\: (mod \\: n)$\n",
    "</font>"
   ]
  },
  {
   "cell_type": "code",
   "execution_count": 107,
   "id": "d82be7ee-93ab-4129-aa7e-d3a3b78ecd2b",
   "metadata": {},
   "outputs": [],
   "source": [
    "n = p*q"
   ]
  },
  {
   "cell_type": "code",
   "execution_count": 108,
   "id": "dc046cc4-aa20-403c-93ff-f61b91f34b47",
   "metadata": {},
   "outputs": [],
   "source": [
    "#  totient function of n\n",
    "#  https://sefiks.com/2022/12/31/a-gentle-introduction-to-fermat-euler-theorem/\n",
    "\n",
    "phi = (p-1)*(q-1)"
   ]
  },
  {
   "cell_type": "code",
   "execution_count": 109,
   "id": "a5d1c53b-d578-423d-a7a4-2fec4577ec26",
   "metadata": {},
   "outputs": [],
   "source": [
    "g = n + 1\n",
    "lmbda = phi * 1\n",
    "mu = pow(lmbda, -1, n) # lambda^(-1) mod n"
   ]
  },
  {
   "cell_type": "markdown",
   "id": "6d9ba5fd-39c2-4145-b91c-b8b63c300597",
   "metadata": {},
   "source": [
    "### Encrypt\n",
    "<font size=\"4\">$c = g^m \\cdot r^n \\:(mod \\; n^2)$</font>"
   ]
  },
  {
   "cell_type": "code",
   "execution_count": 110,
   "id": "4371d930-e8b0-4c33-8fdc-38cc73026800",
   "metadata": {},
   "outputs": [],
   "source": [
    "# accept a cleartext message and a random int\n",
    "def encrypt(m, r):\n",
    "    assert math.gcd(r, n) == 1\n",
    "    c = ( pow(g, m, n*n) * pow(r, n, n*n) ) % (n*n)\n",
    "    return c"
   ]
  },
  {
   "cell_type": "markdown",
   "id": "34cf5f24-f839-42f8-bcbb-f50b0168e6b7",
   "metadata": {},
   "source": [
    "### Decrypt\n",
    "<font size=\"4\"> $\\frac{c^{\\varphi(N)} -1}{N} \\cdot \\varphi(N)^{-1} \\mod{N^2}$ </font>"
   ]
  },
  {
   "cell_type": "code",
   "execution_count": 111,
   "id": "fb4114f5-b468-49af-a8cc-f6088faea852",
   "metadata": {},
   "outputs": [],
   "source": [
    "def decrypt(c):\n",
    "    cl = (pow(c, lmbda, n*n)) # c\n",
    "    l = int(cl - 1) / int(n)\n",
    "    p = ( l * mu ) % n\n",
    "    return p"
   ]
  },
  {
   "cell_type": "markdown",
   "id": "b242a928-3c7a-4980-80f9-de451c078890",
   "metadata": {},
   "source": [
    "### Generated cryptographic Keys"
   ]
  },
  {
   "cell_type": "code",
   "execution_count": 112,
   "id": "db33db0b-5800-476c-8903-0118eceb1ccc",
   "metadata": {},
   "outputs": [
    {
     "name": "stdout",
     "output_type": "stream",
     "text": [
      "Public generated key:\n",
      " g = 3234 \n",
      " n = 3233\n"
     ]
    }
   ],
   "source": [
    "print(f\"Public generated key:\\n g = {g} \\n n = {n}\")"
   ]
  },
  {
   "cell_type": "code",
   "execution_count": 113,
   "id": "b1d5ec81-2813-4fbc-b476-59bf7dc2ffcb",
   "metadata": {},
   "outputs": [
    {
     "name": "stdout",
     "output_type": "stream",
     "text": [
      "Private generated key:\n",
      " λ = 3120 \n",
      " μ = 2718\n"
     ]
    }
   ],
   "source": [
    "print(f\"Private generated key:\\n λ = {lmbda} \\n μ = {mu}\")"
   ]
  },
  {
   "cell_type": "markdown",
   "id": "d3631b78-7903-4566-9a6e-8ea05d2d9513",
   "metadata": {},
   "source": [
    "### Sanity test: encrypt/dcrypt"
   ]
  },
  {
   "cell_type": "code",
   "execution_count": 114,
   "id": "9a96e7da-5e42-4e13-b048-a455c965ca75",
   "metadata": {},
   "outputs": [],
   "source": [
    "m = 42\n",
    "r = random.randint(0, n)\n",
    " \n",
    "c = encrypt(m, r)\n",
    "p = decrypt(c)\n",
    " \n",
    "assert p == m"
   ]
  },
  {
   "cell_type": "markdown",
   "id": "45c89849-eb93-4175-8989-6498a04486ea",
   "metadata": {},
   "source": [
    "## Additive HE"
   ]
  },
  {
   "cell_type": "code",
   "execution_count": 115,
   "id": "a018a385-7da2-4272-9e0c-cc5cf60437ca",
   "metadata": {},
   "outputs": [],
   "source": [
    "m1 = 71\n",
    "r1 = random.randint(0, n)\n",
    " \n",
    "m2 = 29\n",
    "r2 = random.randint(0, n)"
   ]
  },
  {
   "cell_type": "code",
   "execution_count": 116,
   "id": "050e7a93-8e0d-43c8-9157-a178ec386697",
   "metadata": {},
   "outputs": [],
   "source": [
    "# Encrypt then multiply\n",
    "\"\"\"\n",
    "If we have two encrypted numbers in the Paillier system, \n",
    "and we multiply their encrypted forms together, \n",
    "the result is an encryption of the sum of the original two numbers.\n",
    "\"\"\"\n",
    "c1 = encrypt(m1, r1)\n",
    "c2 = encrypt(m2, r2)\n",
    "en_mult = (c1*c2) % (n*n)"
   ]
  },
  {
   "cell_type": "code",
   "execution_count": 117,
   "id": "4963d771-4e9e-4446-a293-684029ff6cbe",
   "metadata": {},
   "outputs": [],
   "source": [
    "# Add then encrypt\n",
    "add_en = encrypt(m1 + m2, r1*r2)"
   ]
  },
  {
   "cell_type": "markdown",
   "id": "8af8ce8a-cf2f-4214-b525-34637b2b4bd5",
   "metadata": {},
   "source": [
    "##### $d( \\: e(m1) + e(m2) \\: ) = d( \\: e(m1 + m2) \\: )$"
   ]
  },
  {
   "cell_type": "code",
   "execution_count": 118,
   "id": "6807afd5-741e-4c54-a072-096c18c3b4ee",
   "metadata": {},
   "outputs": [],
   "source": [
    "assert decrypt(en_mult) == decrypt(add_en)"
   ]
  },
  {
   "cell_type": "markdown",
   "id": "99605b42-d613-4a92-9f74-dfa92aa533eb",
   "metadata": {},
   "source": [
    "### Adding the Identity (neutral) element"
   ]
  },
  {
   "cell_type": "code",
   "execution_count": 119,
   "id": "3fb1c412-29a8-4a35-9d84-7eff2d5f5a1e",
   "metadata": {},
   "outputs": [],
   "source": [
    "m1 = 42\n",
    "r1 = random.randint(0, n)\n",
    " \n",
    "m2 = 0 # The identity element\n",
    "r2 = random.randint(0, n)\n",
    " \n",
    "# Encrypt then multiply\n",
    "c1 = encrypt(m1, r1)\n",
    "c2 = encrypt(m2, r2)\n",
    "en_mult = (c1*c2) % (n*n)\n",
    "\n",
    "# Add then encrypt\n",
    "add_en = encrypt(m1 + m2, r1*r2)"
   ]
  },
  {
   "cell_type": "markdown",
   "id": "edc643e9-7786-49b7-85db-8df71d28b339",
   "metadata": {},
   "source": [
    "##### $d( \\: e(m1) + e(id) \\: ) = d( \\: e(m1 + id) \\: )$"
   ]
  },
  {
   "cell_type": "code",
   "execution_count": 120,
   "id": "93d24019-fcf4-467e-8191-20ef6b478d22",
   "metadata": {},
   "outputs": [],
   "source": [
    "assert decrypt(en_mult) == decrypt(add_en)"
   ]
  },
  {
   "cell_type": "code",
   "execution_count": null,
   "id": "2730022f-36f8-463a-b699-f4553efa182d",
   "metadata": {},
   "outputs": [],
   "source": []
  }
 ],
 "metadata": {
  "kernelspec": {
   "display_name": "ccc",
   "language": "python",
   "name": "python3"
  },
  "language_info": {
   "codemirror_mode": {
    "name": "ipython",
    "version": 3
   },
   "file_extension": ".py",
   "mimetype": "text/x-python",
   "name": "python",
   "nbconvert_exporter": "python",
   "pygments_lexer": "ipython3",
   "version": "3.11.11"
  }
 },
 "nbformat": 4,
 "nbformat_minor": 5
}
