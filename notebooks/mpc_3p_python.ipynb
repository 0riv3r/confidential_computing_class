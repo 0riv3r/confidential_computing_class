{
 "cells": [
  {
   "cell_type": "markdown",
   "metadata": {},
   "source": [
    "# Multi-Party Computation (MPC)\n",
    "## 3-party computation\n",
    "### Python implementation"
   ]
  },
  {
   "cell_type": "markdown",
   "metadata": {},
   "source": [
    "@author: Ofer Rivlin<br>\n",
    "@mail: ofer.rivlin@intel.com<br>"
   ]
  },
  {
   "cell_type": "markdown",
   "metadata": {},
   "source": [
    "https://en.wikipedia.org/wiki/Secure_multi-party_computation"
   ]
  },
  {
   "cell_type": "markdown",
   "metadata": {},
   "source": [
    "Multi-party computation (MPC) is an advanced topic in cryptography and its full implementation can be complex. However, a simple form of MPC can be explained using additive secret sharing over a finite field, such as the integers modulo some prime p."
   ]
  },
  {
   "cell_type": "markdown",
   "metadata": {},
   "source": [
    "In this example, let's consider a scenario where three parties (Alice, Bob, and Charlie) want to jointly compute the sum of their private inputs without revealing their inputs to each other."
   ]
  },
  {
   "cell_type": "markdown",
   "metadata": {},
   "source": [
    "In this example, each party first generates \"shares\" of their private input.<br />\n",
    "These shares are random numbers such that their sum modulo p is equal to the input.<br />\n",
    "The parties then exchange shares with each other.<br />\n",
    "Each party then sums the shares they received and their own share to compute a partial sum.<br />\n",
    "The total sum of their private inputs can be computed by summing these partial sums."
   ]
  },
  {
   "cell_type": "markdown",
   "metadata": {},
   "source": [
    "This is still a very simplified example and many practical aspects of MPC are not covered, such as error handling, security against malicious parties, and efficiency considerations.<br />\n",
    "But it provides a basic understanding of how parties can jointly compute a function over their private inputs without revealing them."
   ]
  },
  {
   "cell_type": "code",
   "execution_count": 1,
   "metadata": {},
   "outputs": [],
   "source": [
    "import random\n",
    "\n",
    "# We define a prime number for our modulo operations\n",
    "p = 43"
   ]
  },
  {
   "cell_type": "code",
   "execution_count": 2,
   "metadata": {},
   "outputs": [],
   "source": [
    "def generate_shares(input_value):\n",
    "    \"\"\"\n",
    "    Generates random shares for an input value.\n",
    "    \"\"\"    \n",
    "    shares = [input_value, 0, 0]\n",
    "    for i in range(2):\n",
    "      r = random.randint(0, p)\n",
    "      shares[0] = shares[0] - r\n",
    "      shares[i+1] = r %p\n",
    "    shares[0] = shares[0] %p\n",
    "\n",
    "    # sanity check\n",
    "    assert sum(shares) %p == input_value %p\n",
    "    return shares"
   ]
  },
  {
   "cell_type": "code",
   "execution_count": 3,
   "metadata": {},
   "outputs": [],
   "source": [
    "class Alice:\n",
    "  def __init__(self, input):\n",
    "    self.input = input\n",
    "    self.shares = generate_shares(input)\n",
    "\n",
    "    # Alice sends one share to each of the other parties\n",
    "    self.share_to_bob = self.shares[1]\n",
    "    self.share_to_charlie = self.shares[2]\n",
    "    self.bob = None\n",
    "    self.charlie = None\n",
    "    self.shared_addition_result = 0\n",
    "\n",
    "  def register_parties(self, bob, charlie):\n",
    "    self.bob = bob\n",
    "    self.charlie = charlie\n",
    "\n",
    "  def share_for_addition(self):\n",
    "    return (self.shares[0] + \n",
    "            self.bob.share_to_alice + \n",
    "            self.charlie.share_to_alice) %p\n",
    "  \n",
    "  def shared_addition(self):\n",
    "    self.shared_addition_result = (self.share_for_addition() + \n",
    "                                    self.bob.share_for_addition() +\n",
    "                                    self.charlie.share_for_addition()) %p"
   ]
  },
  {
   "cell_type": "code",
   "execution_count": 4,
   "metadata": {},
   "outputs": [],
   "source": [
    "class Bob:\n",
    "  def __init__(self, input):\n",
    "    self.input = input\n",
    "    self.shares = generate_shares(input)\n",
    "\n",
    "    # Bob only shares a one share with Alice\n",
    "    self.share_to_alice = self.shares[0]\n",
    "    \n",
    "    self.alice = None\n",
    "    self.charlie = None\n",
    "    self.shared_addition_result = 0\n",
    "\n",
    "  def register_parties(self, alice, charlie):\n",
    "    self.alice = alice\n",
    "    self.charlie = charlie\n",
    "\n",
    "  def share_for_addition(self):\n",
    "    return (self.shares[1] + \n",
    "            self.shares[2] + \n",
    "            self.alice.share_to_bob) %p\n",
    "  \n",
    "  def shared_addition(self):\n",
    "    self.shared_addition_result = (self.share_for_addition() + \n",
    "                                   self.alice.share_for_addition() +\n",
    "                                   self.charlie.share_for_addition()) %p"
   ]
  },
  {
   "cell_type": "code",
   "execution_count": 5,
   "metadata": {},
   "outputs": [],
   "source": [
    "class Charlie:\n",
    "  def __init__(self, input):\n",
    "    self.input = input\n",
    "    self.shares = generate_shares(input)\n",
    "\n",
    "    # Charlie only shares a one share with Alice\n",
    "    self.share_to_alice = self.shares[0]\n",
    "    \n",
    "    self.alice = None\n",
    "    self.bob = None\n",
    "    self.shared_addition_result = 0\n",
    "\n",
    "  def register_parties(self, bob, alice):\n",
    "    self.alice = alice\n",
    "    self.bob = bob\n",
    "\n",
    "  def share_for_addition(self):\n",
    "    return (self.shares[1] + \n",
    "            self.shares[2] + \n",
    "            self.alice.share_to_charlie) %p\n",
    "  \n",
    "  def shared_addition(self):\n",
    "    self.shared_addition_result = (self.share_for_addition() + \n",
    "                                   self.bob.share_for_addition() +\n",
    "                                   self.alice.share_for_addition()) %p"
   ]
  },
  {
   "cell_type": "code",
   "execution_count": 6,
   "metadata": {},
   "outputs": [
    {
     "name": "stdout",
     "output_type": "stream",
     "text": [
      "Alice shares: [29, 38, 30]\n",
      "Bob shares: [38, 20, 40]\n",
      "Charlie shares: [10, 33, 13]\n",
      "\n",
      "Shared computation result: 36\n",
      "\n",
      "Shared addition successful!\n"
     ]
    }
   ],
   "source": [
    "alice_secret_input = 11\n",
    "bob_secret_input = 12\n",
    "charlie_secret_input = 13\n",
    "\n",
    "# Each party generates shares for their private input\n",
    "alice = Alice(input=alice_secret_input)\n",
    "bob = Bob(input=bob_secret_input)\n",
    "charlie = Charlie(input=charlie_secret_input)\n",
    "\n",
    "expected_shared_sum = alice.input + bob.input + charlie.input\n",
    "\n",
    "print(\"Alice shares: {}\".format(alice.shares))\n",
    "print(\"Bob shares: {}\".format(bob.shares))\n",
    "print(\"Charlie shares: {}\".format(charlie.shares))\n",
    "\n",
    "alice.register_parties(bob=bob, charlie=charlie)\n",
    "bob.register_parties(alice=alice, charlie=charlie)\n",
    "charlie.register_parties(bob=bob, alice=alice)\n",
    "\n",
    "# print(alice.share_for_addition())\n",
    "# print(bob.share_for_addition())\n",
    "# print(charlie.share_for_addition())\n",
    "\n",
    "alice.shared_addition()\n",
    "bob.shared_addition()\n",
    "charlie.shared_addition()\n",
    "\n",
    "# Each one of the parties can now compute the sum of their private inputs\n",
    "assert alice.shared_addition_result == \\\n",
    "       bob.shared_addition_result == \\\n",
    "       charlie.shared_addition_result == \\\n",
    "       expected_shared_sum\n",
    "\n",
    "print(\"\\nShared computation result: {}\".format(alice.shared_addition_result))\n",
    "\n",
    "print(\"\\nShared addition successful!\")"
   ]
  },
  {
   "cell_type": "code",
   "execution_count": 7,
   "metadata": {},
   "outputs": [],
   "source": [
    "\"\"\"\n",
    "Example of a possible run\n",
    "\"\"\"\n",
    "\n",
    "# Alice\n",
    "#------\n",
    "a = 11\n",
    "a_r2 = 21\n",
    "a_r3 = 36\n",
    "\n",
    "a_s1 = (a - a_r2 - a_r3) % p\n",
    "a_s2 = a_r2 % 43\n",
    "a_s3 = a_r3 % 43\n",
    "\n",
    "# print(\"alice: {},{},{}\".format(a_s1,a_s2,a_s3))\n",
    "assert (a_s1 + a_s2 + a_s3) %p == a %p\n",
    "\n",
    "# Bob\n",
    "#----\n",
    "b = 12\n",
    "b_r2 = 2\n",
    "b_r3 = 17\n",
    "\n",
    "b_s1 = (b - b_r2 - b_r3) % p\n",
    "b_s2 = b_r2 % p\n",
    "b_s3 = b_r3 % p\n",
    "\n",
    "# print(\"bob: {},{},{}\".format(b_s1,b_s2,b_s3))\n",
    "assert (b_s1 + b_s2 + b_s3) %p == b %p\n",
    "\n",
    "# Charlie\n",
    "#--------\n",
    "c = 13\n",
    "c_r2 = 40\n",
    "c_r3 = 31\n",
    "\n",
    "c_s1 = (c - c_r2 - c_r3) % p\n",
    "c_s2 = c_r2 % p\n",
    "c_s3 = c_r3 % p\n",
    "\n",
    "\n",
    "assert (c_s1 + c_s2 + c_s3) %p == c %p\n",
    "\n",
    "# Addition\n",
    "#=========\n",
    "\n",
    "a_add = (a_s1 + b_s1 + c_s1) %p\n",
    "b_add = (a_s2 + b_s2 + b_s3) %p\n",
    "c_add = (a_s3 + c_s2 + c_s3) %p\n",
    "\n",
    "# print(\"charlie: {},{},{}\".format(c_s1,c_s2,c_s3))\n",
    "assert (a_add + b_add + c_add) %p == (a + b + c)"
   ]
  },
  {
   "cell_type": "code",
   "execution_count": null,
   "metadata": {},
   "outputs": [],
   "source": []
  },
  {
   "cell_type": "code",
   "execution_count": null,
   "metadata": {},
   "outputs": [],
   "source": []
  }
 ],
 "metadata": {
  "kernelspec": {
   "display_name": "ccc",
   "language": "python",
   "name": "ccc"
  },
  "language_info": {
   "codemirror_mode": {
    "name": "ipython",
    "version": 3
   },
   "file_extension": ".py",
   "mimetype": "text/x-python",
   "name": "python",
   "nbconvert_exporter": "python",
   "pygments_lexer": "ipython3",
   "version": "3.11.11"
  }
 },
 "nbformat": 4,
 "nbformat_minor": 4
}
