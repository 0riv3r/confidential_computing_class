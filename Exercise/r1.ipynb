{
 "cells": [
  {
   "cell_type": "markdown",
   "metadata": {},
   "source": [
    "Here's a Python implementation using additive secret sharing to compare two bids without revealing their actual values. This is a simplified approach to secure multi-party computation (MPC):"
   ]
  },
  {
   "cell_type": "code",
   "execution_count": null,
   "metadata": {},
   "outputs": [
    {
     "name": "stdout",
     "output_type": "stream",
     "text": [
      "Bid from Bob is larger\n"
     ]
    }
   ],
   "source": [
    "import random\n",
    "\n",
    "class BidComparator:\n",
    "    def __init__(self):\n",
    "        self.shares = {}\n",
    "    \n",
    "    def split_bid_to_shares(self, secret, num_shares=3):\n",
    "        \"\"\"Split secret into shares using additive secret sharing\"\"\"\n",
    "        if num_shares < 2:\n",
    "            raise ValueError(\"Number of shares must be at least 2\")\n",
    "        \n",
    "        # Generate random shares (sum of first n-1 shares is not the secret)\n",
    "        shares = [random.randint(0, 1000000) for _ in range(num_shares-1)]\n",
    "        \n",
    "        # Last share makes the sum equal to the secret\n",
    "        shares.append(secret - sum(shares))\n",
    "        \n",
    "        return shares\n",
    "    \n",
    "    def submit_bid(self, bidder_id, bid_value):\n",
    "        \"\"\"Submit a bid by storing its shares\"\"\"\n",
    "        self.shares[bidder_id] = self.split_bid_to_shares(bid_value)\n",
    "    \n",
    "    def compute_comparison(self):\n",
    "        \"\"\"Compute which bid is larger without revealing the bids\"\"\"\n",
    "        if len(self.shares) != 2:\n",
    "            raise ValueError(\"Exactly two bids required for comparison\")\n",
    "        \n",
    "        # Get the shares from both bidders\n",
    "        bidder1, bidder2 = self.shares.keys()\n",
    "        shares1 = self.shares[bidder1]\n",
    "        shares2 = self.shares[bidder2]\n",
    "        \n",
    "        # Compute difference shares (d = bid1 - bid2)\n",
    "        diff_shares = [s1 - s2 for s1, s2 in zip(shares1, shares2)]\n",
    "        \n",
    "        # Reconstruct the difference (sum of all difference shares)\n",
    "        d = sum(diff_shares)\n",
    "        \n",
    "        # Determine which bid is larger based on the difference\n",
    "        if d > 0:\n",
    "            return f\"Bid from {bidder1} is larger\"\n",
    "        elif d < 0:\n",
    "            return f\"Bid from {bidder2} is larger\"\n",
    "        else:\n",
    "            return \"Bids are equal\"\n",
    "\n",
    "# Example usage\n",
    "if __name__ == \"__main__\":\n",
    "    comparator = BidComparator()\n",
    "    \n",
    "    # Alice and Bob submit their bids (values kept secret)\n",
    "    comparator.submit_bid(\"Alice\", 150)  # Alice's bid is 150\n",
    "    comparator.submit_bid(\"Bob\", 200)    # Bob's bid is 200\n",
    "    \n",
    "    # Compare bids without revealing actual values\n",
    "    result = comparator.compute_comparison()\n",
    "    print(result)  # Output will indicate which bid is larger"
   ]
  },
  {
   "cell_type": "markdown",
   "metadata": {},
   "source": [
    "How This Works:\n",
    "Secret Sharing: Each bid is split into multiple shares using additive secret sharing. The actual bid can only be reconstructed if all shares are combined.\n",
    "\n",
    "Secure Comparison: Instead of revealing the bids, we compute shares of the difference between bids. By summing these difference shares, we learn which bid was larger without learning the actual bid values.\n",
    "\n",
    "Privacy: No single party has access to the complete bid values at any point. The computation works only with the shares.\n",
    "\n",
    "Limitations:\n",
    "This is a simplified implementation for demonstration. A real MPC system would distribute computation across multiple parties.\n",
    "\n",
    "We're using a trusted third party (the BidComparator class) which knows all shares. In true MPC, this would be distributed.\n",
    "\n",
    "For production use, you would want to use established MPC libraries like PySyft or frameworks like SPDZ.\n",
    "\n",
    "Would you like me to modify any aspect of this implementation or explain any part in more detail?"
   ]
  },
  {
   "cell_type": "markdown",
   "metadata": {},
   "source": []
  }
 ],
 "metadata": {
  "kernelspec": {
   "display_name": "ccc",
   "language": "python",
   "name": "python3"
  },
  "language_info": {
   "codemirror_mode": {
    "name": "ipython",
    "version": 3
   },
   "file_extension": ".py",
   "mimetype": "text/x-python",
   "name": "python",
   "nbconvert_exporter": "python",
   "pygments_lexer": "ipython3",
   "version": "3.11.9"
  }
 },
 "nbformat": 4,
 "nbformat_minor": 2
}
