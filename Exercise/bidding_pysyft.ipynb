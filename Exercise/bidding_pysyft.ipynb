{
 "cells": [
  {
   "cell_type": "markdown",
   "metadata": {},
   "source": [
    "Implementing a secure multi-party computation (SMPC) protocol from scratch can be complex, but there are libraries that simplify this process. One such library is PySyft, which provides tools for privacy-preserving machine learning, including SMPC.    \n",
    "     \n",
    "Below is a simple example using PySyft to solve the problem of determining the highest bid among three bidders without revealing the bid values. We will use a secure aggregation approach to compute the maximum bid.    \n",
    "    \n",
    "Installation:    \n",
    "First, you need to install PySyft. You can do this using pip:     \n",
    "    \n",
    "    \n",
    "    pip install syft   "
   ]
  },
  {
   "cell_type": "code",
   "execution_count": null,
   "metadata": {},
   "outputs": [],
   "source": [
    "!pip -q install syft"
   ]
  },
  {
   "cell_type": "code",
   "execution_count": null,
   "metadata": {},
   "outputs": [],
   "source": [
    "import syft as sy  \n",
    "import torch as th  \n",
    "  \n",
    "# Step 1: Setting up the virtual workers  \n",
    "hook = sy.TorchHook(th)  \n",
    "alice = sy.VirtualWorker(hook, id=\"alice\")  \n",
    "bob = sy.VirtualWorker(hook, id=\"bob\")  \n",
    "charlie = sy.VirtualWorker(hook, id=\"charlie\")  \n",
    "  \n",
    "# Step 2: Each bidder creates and encrypts their bid  \n",
    "bidder_1_bid = th.tensor([100]).share(alice, bob, charlie, crypto_provider=alice)  \n",
    "bidder_2_bid = th.tensor([150]).share(alice, bob, charlie, crypto_provider=alice)  \n",
    "bidder_3_bid = th.tensor([120]).share(alice, bob, charlie, crypto_provider=alice)  \n",
    "  \n",
    "# Step 3: Compute the maximum bid in a secure manner  \n",
    "max_bid = th.max(th.stack([bidder_1_bid, bidder_2_bid, bidder_3_bid]))  \n",
    "  \n",
    "# Step 4: Decrypt the result  \n",
    "max_bid_value = max_bid.get().item()  \n",
    "  \n",
    "# Since the values are encrypted, we need to find out the corresponding bidder  \n",
    "bids = [bidder_1_bid.get().item(), bidder_2_bid.get().item(), bidder_3_bid.get().item()]  \n",
    "highest_bidder = bids.index(max_bid_value) + 1  \n",
    "  \n",
    "print(f\"The highest bidder is: Bidder {highest_bidder} with a bid of {max_bid_value}\")  "
   ]
  },
  {
   "cell_type": "markdown",
   "metadata": {},
   "source": [
    "### Explanation:  \n",
    "   \n",
    "1. **Setting up the Virtual Workers:**  \n",
    "   - We create three virtual workers (`alice`, `bob`, and `charlie`) using `PySyft`. These workers will perform the secure computation.  \n",
    "   \n",
    "2. **Encrypting the Bids:**  \n",
    "   - Each bidder's bid is converted into a PyTorch tensor and then shared among the three workers using the `share` method. This method splits the tensor into shares and distributes them to the workers. The `crypto_provider` argument specifies which worker will act as the cryptographic provider.  \n",
    "   \n",
    "3. **Computing the Maximum Bid:**  \n",
    "   - The bids are stacked into a single tensor, and the maximum bid is computed using the `th.max` function. This operation is performed securely without revealing the individual bid values.  \n",
    "   \n",
    "4. **Decrypting the Result:**  \n",
    "   - The result of the maximum bid is decrypted using the `get` method. We also decrypt each individual bid to determine which bidder submitted the highest bid.  \n",
    "   \n",
    "### Important Notes:  \n",
    "- This code is for educational purposes and demonstrates the basic principles of SMPC using `PySyft`. In practice, additional security measures and optimizations may be necessary.  \n",
    "- Make sure that `PySyft` and its dependencies are correctly installed.  \n",
    "   \n",
    "This should give your students a practical understanding of how SMPC can be used to solve the problem of determining the highest bid among multiple bidders without revealing their individual bid values."
   ]
  },
  {
   "cell_type": "code",
   "execution_count": null,
   "metadata": {},
   "outputs": [],
   "source": []
  }
 ],
 "metadata": {
  "language_info": {
   "name": "python"
  }
 },
 "nbformat": 4,
 "nbformat_minor": 2
}
