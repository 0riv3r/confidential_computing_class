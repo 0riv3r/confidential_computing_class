{
 "cells": [
  {
   "cell_type": "markdown",
   "metadata": {},
   "source": [
    "You are a Python and Cryptography expert AI bot who helps developers write correct and secure code.\n",
    "\n",
    "Write a Python code for a simple bidding system, using the PySyft package, that gets bids and decides which is the highest without knowing or revealing any of the bids' real value. "
   ]
  },
  {
   "cell_type": "code",
   "execution_count": null,
   "metadata": {},
   "outputs": [],
   "source": [
    "!pip -q install torch syft==0.9.5"
   ]
  },
  {
   "cell_type": "code",
   "execution_count": null,
   "metadata": {},
   "outputs": [],
   "source": []
  }
 ],
 "metadata": {
  "language_info": {
   "name": "python"
  }
 },
 "nbformat": 4,
 "nbformat_minor": 2
}
