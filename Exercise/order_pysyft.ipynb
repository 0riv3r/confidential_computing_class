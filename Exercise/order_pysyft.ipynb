{
 "cells": [
  {
   "cell_type": "markdown",
   "metadata": {},
   "source": [
    "You are a Python and Cryptography expert AI bot who helps developers write correct and secure code.\n",
    "\n",
    "Write a Python code using the PySyft package that gets an array of integers and returns an ascending ordered array without knowing or revealing any of the input real values. "
   ]
  },
  {
   "cell_type": "code",
   "execution_count": null,
   "metadata": {},
   "outputs": [],
   "source": [
    "!pip -q install torch syft==0.9.5"
   ]
  }
 ],
 "metadata": {
  "language_info": {
   "name": "python"
  }
 },
 "nbformat": 4,
 "nbformat_minor": 2
}
