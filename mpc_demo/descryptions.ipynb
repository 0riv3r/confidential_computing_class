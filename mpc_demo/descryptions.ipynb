{
 "cells": [
  {
   "cell_type": "markdown",
   "id": "64ee22fb-4ec7-483b-9f86-98f2d1227ccd",
   "metadata": {},
   "source": [
    "# CrypTen\n",
    "### Ofer's descryption\n",
    "\n",
    "## Setup CrypTen\n",
    "\n",
    "        $ conda create -n crypten python=3.7.0\n",
    "        $ conda activate crypten\n",
    "        $ python --version\n",
    "        Python 3.7.0\n",
    "\n",
    "        $ pip install crypten\n",
    "        $ pip install chardet\n",
    "        $ conda install ipython jupyter\n",
    "        $ conda install jupyterlab\n",
    "        $ conda install -c anaconda ipykernel\n",
    "        $ python -m ipykernel install --user --name=crypten\n",
    "        \n",
    "        $ conda install conda-forge::matplotlib\n",
    "        $ conda install anaconda::seaborn\n",
    "        $ conda install anaconda::pandas\n",
    "\n",
    "        $ cd tutorials/\n",
    "        $ jupyter lab\n",
    "    "
   ]
  },
  {
   "cell_type": "markdown",
   "id": "cb522553-7a03-4e93-af83-612d6bbaf728",
   "metadata": {},
   "source": [
    "# Differences between a vector space and a tensor space\n",
    "\n",
    "A vector space is a mathematical structure that consists of a set of objects called vectors, which can be added together and multiplied by scalars (usually real numbers or complex numbers). Vector spaces obey a set of axioms, such as closure under addition and scalar multiplication, associativity and distributivity of operations, and the existence of an additive identity and additive inverses.A tensor space is a generalization of a vector space that allows for more complex transformations. Tensors can be thought of as multi-dimensional arrays of numbers or functions that transform in a specific way under coordinate transformations. Tensors can be added together and multiplied by scalars, just like vectors, but they also have additional properties that are not found in vector spaces.There are indeed axioms for tensor spaces, but they are more complicated than those for vector spaces. The axioms involve multiple indices, covariant and contravariant transformations, and other technical concepts. They are typically expressed in the language of differential geometry or abstract algebra. If you are interested in learning more about tensor spaces, I can recommend some resources for you."
   ]
  },
  {
   "cell_type": "code",
   "execution_count": null,
   "id": "01d5c8d5-f082-4423-9919-30a57c708e3f",
   "metadata": {},
   "outputs": [],
   "source": []
  }
 ],
 "metadata": {
  "kernelspec": {
   "display_name": "crypten",
   "language": "python",
   "name": "crypten"
  },
  "language_info": {
   "codemirror_mode": {
    "name": "ipython",
    "version": 3
   },
   "file_extension": ".py",
   "mimetype": "text/x-python",
   "name": "python",
   "nbconvert_exporter": "python",
   "pygments_lexer": "ipython3",
   "version": "3.7.12"
  }
 },
 "nbformat": 4,
 "nbformat_minor": 5
}
